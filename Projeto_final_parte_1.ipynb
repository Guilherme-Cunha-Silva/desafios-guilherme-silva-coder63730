{
 "cells": [
  {
   "cell_type": "markdown",
   "metadata": {},
   "source": [
    "Escolher uma API da lista disponível; \n",
    "Fazer a extração de pelo menos 3 tabelas;\n",
    "Criar um alerta de erro usando a função alerta() do desafio da aula Fundamentos de programação III."
   ]
  },
  {
   "cell_type": "code",
   "execution_count": 1,
   "metadata": {},
   "outputs": [],
   "source": [
    "import pandas as pd\n",
    "import requests \n",
    "import os\n",
    "from datetime import datetime"
   ]
  },
  {
   "cell_type": "code",
   "execution_count": 2,
   "metadata": {},
   "outputs": [],
   "source": [
    "url1 = \"https://brasilapi.com.br/api/banks/v1\"\n",
    "response1 =requests.get(url1)\n",
    "# response"
   ]
  },
  {
   "cell_type": "code",
   "execution_count": null,
   "metadata": {},
   "outputs": [],
   "source": [
    "titulo = \"Resultado API - 1\"\n",
    "if response1.status_code == 200:\n",
    "    mensagem = f\"\\nConexão bem-sucedida - Status {response1.status_code}\"\n",
    "    data_json = response1.json()\n",
    "else:\n",
    "    mensagem = f\"Falha na conexão - Erro {response1.status_code}\"\n",
    "\n",
    "os.system(f'''osascript -e 'display notification \"{mensagem}\" with title \"{titulo}\"' ''')\n"
   ]
  },
  {
   "cell_type": "code",
   "execution_count": null,
   "metadata": {},
   "outputs": [],
   "source": [
    "data_json"
   ]
  },
  {
   "cell_type": "code",
   "execution_count": null,
   "metadata": {},
   "outputs": [],
   "source": [
    "df_banks = pd.DataFrame(data_json)\n",
    "df_banks.head(10)"
   ]
  },
  {
   "cell_type": "code",
   "execution_count": null,
   "metadata": {},
   "outputs": [],
   "source": [
    "df_banks.info()"
   ]
  },
  {
   "cell_type": "code",
   "execution_count": 7,
   "metadata": {},
   "outputs": [],
   "source": [
    "url2 = \"https://brasilapi.com.br/api/cvm/corretoras/v1\"\n",
    "response2 =requests.get(url2)"
   ]
  },
  {
   "cell_type": "code",
   "execution_count": null,
   "metadata": {},
   "outputs": [],
   "source": [
    "titulo = \"Resultado API - 2\"\n",
    "if response2.status_code == 200:\n",
    "    mensagem = f\"\\nConexão bem-sucedida - Status {response2.status_code}\"\n",
    "    data_json2 = response2.json()\n",
    "else:\n",
    "    mensagem = f\"Falha na conexão - Erro {response2.status_code}\"\n",
    "\n",
    "os.system(f'''osascript -e 'display notification \"{mensagem}\" with title \"{titulo}\"' ''')\n"
   ]
  },
  {
   "cell_type": "code",
   "execution_count": null,
   "metadata": {},
   "outputs": [],
   "source": [
    "data_json2"
   ]
  },
  {
   "cell_type": "code",
   "execution_count": null,
   "metadata": {},
   "outputs": [],
   "source": [
    "df_corretoras = pd.DataFrame(data_json2)\n",
    "df_corretoras.head(5)"
   ]
  },
  {
   "cell_type": "code",
   "execution_count": 11,
   "metadata": {},
   "outputs": [],
   "source": [
    "url3 = \"https://brasilapi.com.br/api/pix/v1/participants\"\n",
    "response3 =requests.get(url3)"
   ]
  },
  {
   "cell_type": "code",
   "execution_count": null,
   "metadata": {},
   "outputs": [],
   "source": [
    "titulo = \"Resultado API - 3\"\n",
    "if response3.status_code == 200:\n",
    "    mensagem = f\"\\nConexão bem-sucedida - Status {response3.status_code}\"\n",
    "    data_json3 = response3.json()\n",
    "else:\n",
    "    mensagem = f\"Falha na conexão - Erro {response3.status_code}\"\n",
    "\n",
    "os.system(f'''osascript -e 'display notification \"{mensagem}\" with title \"{titulo}\"' ''')\n"
   ]
  },
  {
   "cell_type": "code",
   "execution_count": null,
   "metadata": {},
   "outputs": [],
   "source": [
    "data_json3"
   ]
  },
  {
   "cell_type": "code",
   "execution_count": null,
   "metadata": {},
   "outputs": [],
   "source": [
    "df_pix = pd.DataFrame(data_json3)\n",
    "df_pix.head(5)"
   ]
  }
 ],
 "metadata": {
  "kernelspec": {
   "display_name": "Python 3",
   "language": "python",
   "name": "python3"
  },
  "language_info": {
   "codemirror_mode": {
    "name": "ipython",
    "version": 3
   },
   "file_extension": ".py",
   "mimetype": "text/x-python",
   "name": "python",
   "nbconvert_exporter": "python",
   "pygments_lexer": "ipython3",
   "version": "3.13.0"
  }
 },
 "nbformat": 4,
 "nbformat_minor": 2
}
