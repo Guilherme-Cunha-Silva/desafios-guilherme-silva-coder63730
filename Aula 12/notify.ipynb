{
 "cells": [
  {
   "cell_type": "markdown",
   "metadata": {},
   "source": [
    "Criando um alerta com notification.notify() "
   ]
  },
  {
   "cell_type": "code",
   "execution_count": 3,
   "metadata": {},
   "outputs": [
    {
     "name": "stdout",
     "output_type": "stream",
     "text": [
      "Requirement already satisfied: plyer in /Library/Frameworks/Python.framework/Versions/3.13/lib/python3.13/site-packages (2.1.0)\n",
      "Note: you may need to restart the kernel to use updated packages.\n"
     ]
    }
   ],
   "source": [
    "pip install --upgrade plyer"
   ]
  },
  {
   "cell_type": "code",
   "execution_count": null,
   "metadata": {},
   "outputs": [],
   "source": [
    "from plyer import notification\n",
    "from datetime import datetime\n",
    "\n",
    "def notify(nivel, base, etapa):\n",
    "    if nivel == 1:\n",
    "        titulo = \"ATENÇÃO: Alerta Baixo\"\n",
    "    elif nivel == 2:\n",
    "        titulo = \"ATENÇÃO: Alerta Médio\"\n",
    "    else: \n",
    "        titulo = \"ATENÇÃO: Alerta Alto\"\n",
    "\n",
    "    # Data atual\n",
    "    data_atual = datetime.now().strftime(\"%d-%m-%Y às %H:%M\")\n",
    "\n",
    "    # Mensagem\n",
    "    mensagem = f\"Falha no carregamento da base {base} na etapa: {etapa}\\n\\nData erro: {data_atual}\"\n",
    "\n",
    "    # Notificação\n",
    "    notification.notify(\n",
    "        title=titulo,\n",
    "        message=mensagem,\n",
    "        timeout=10  # Notificação por 10 segundos\n",
    "    )\n",
    "\n",
    "notify(3, \"VENDAS\", \"CARGA INICIAL\")\n"
   ]
  },
  {
   "cell_type": "markdown",
   "metadata": {},
   "source": [
    "Solução temporária para o pyfer - Não roda no Mac OS versão 15.1"
   ]
  },
  {
   "cell_type": "code",
   "execution_count": 8,
   "metadata": {},
   "outputs": [],
   "source": [
    "import os\n",
    "from datetime import datetime\n",
    "\n",
    "def notify(nivel,base,etapa):\n",
    "    if nivel == 1:\n",
    "        titulo = \"ATENÇÃO: Alerta Baixo\"\n",
    "    elif nivel == 2:\n",
    "        titulo = \"ATENÇÃO: Alerta Médio\"\n",
    "    else: \n",
    "        titulo = \"ATENÇÃO: Alerta Alto\"\n",
    "\n",
    "    # Data atual\n",
    "    data_atual = datetime.now().strftime(\"%d-%m-%Y às %H:%M\")\n",
    "\n",
    "    # Mensagem\n",
    "    mensagem = f\"Falha no carregamento da base {base} na etapa: {etapa}\\n\\nData erro: {data_atual}\"\n",
    "\n",
    "    # Notificação\n",
    "    os.system(f'''osascript -e 'display notification \"{mensagem}\" with title \"{titulo}\"' ''')\n",
    "\n",
    "notify(3,\n",
    "       \"VENDAS\",\n",
    "       \"CARGA INICIAL\")"
   ]
  }
 ],
 "metadata": {
  "kernelspec": {
   "display_name": "Python 3",
   "language": "python",
   "name": "python3"
  },
  "language_info": {
   "codemirror_mode": {
    "name": "ipython",
    "version": 3
   },
   "file_extension": ".py",
   "mimetype": "text/x-python",
   "name": "python",
   "nbconvert_exporter": "python",
   "pygments_lexer": "ipython3",
   "version": "3.13.0"
  }
 },
 "nbformat": 4,
 "nbformat_minor": 2
}
