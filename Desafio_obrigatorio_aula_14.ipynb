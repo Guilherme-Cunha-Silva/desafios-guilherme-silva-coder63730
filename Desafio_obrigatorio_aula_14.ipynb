{
 "cells": [
  {
   "cell_type": "markdown",
   "metadata": {},
   "source": [
    "Escolher uma API da lista disponível; \n",
    "Fazer a extração de pelo menos 3 tabelas;\n",
    "Criar um alerta de erro usando a função alerta() do desafio da aula Fundamentos de programação III."
   ]
  },
  {
   "cell_type": "code",
   "execution_count": 126,
   "metadata": {},
   "outputs": [],
   "source": [
    "import pandas as pd\n",
    "import requests \n",
    "import os\n",
    "import time "
   ]
  },
  {
   "cell_type": "code",
   "execution_count": 127,
   "metadata": {},
   "outputs": [],
   "source": [
    "url1 = \"https://brasilapi.com.br/api/banks/v1\"\n",
    "url2 = \"https://brasilapi.com.br/api/cvm/corretoras/v1\"\n",
    "url3 = \"https://brasilapi.com.br/api/pix/v1/participants\""
   ]
  },
  {
   "cell_type": "code",
   "execution_count": 128,
   "metadata": {},
   "outputs": [],
   "source": [
    "# Criando uma função para não ficar repetindo a bloco de notificação\n",
    "def notificacao(url, title):\n",
    "    try:\n",
    "        response = requests.get(url)\n",
    "        \n",
    "        if response.status_code == 200:\n",
    "            mensagem = f\"Conexão bem-sucedida - Status {response.status_code}\"\n",
    "            data_json = response.json()\n",
    "        else:\n",
    "            mensagem = f\"Falha na conexão - Erro {response.status_code}\"\n",
    "            data_json = None #significa vazio...\n",
    "\n",
    "    except :\n",
    "        None\n",
    "    \n",
    "    os.system(f'''osascript -e 'display notification \"{mensagem}\" with title \"{title}\"' ''')\n",
    "    return data_json\n",
    "\n",
    "data_json1 = notificacao(url1, \"Resultado API - 1\")\n",
    "time.sleep(3)\n",
    "data_json2 = notificacao(url2, \"Resultado API - 2\")\n",
    "time.sleep(3)\n",
    "data_json3 = notificacao(url3, \"Resultado API - 3\")\n"
   ]
  },
  {
   "cell_type": "code",
   "execution_count": 129,
   "metadata": {},
   "outputs": [
    {
     "data": {
      "text/html": [
       "<div>\n",
       "<style scoped>\n",
       "    .dataframe tbody tr th:only-of-type {\n",
       "        vertical-align: middle;\n",
       "    }\n",
       "\n",
       "    .dataframe tbody tr th {\n",
       "        vertical-align: top;\n",
       "    }\n",
       "\n",
       "    .dataframe thead th {\n",
       "        text-align: right;\n",
       "    }\n",
       "</style>\n",
       "<table border=\"1\" class=\"dataframe\">\n",
       "  <thead>\n",
       "    <tr style=\"text-align: right;\">\n",
       "      <th></th>\n",
       "      <th>ispb</th>\n",
       "      <th>name</th>\n",
       "      <th>code</th>\n",
       "      <th>fullName</th>\n",
       "    </tr>\n",
       "  </thead>\n",
       "  <tbody>\n",
       "    <tr>\n",
       "      <th>0</th>\n",
       "      <td>00000000</td>\n",
       "      <td>BCO DO BRASIL S.A.</td>\n",
       "      <td>1.0</td>\n",
       "      <td>Banco do Brasil S.A.</td>\n",
       "    </tr>\n",
       "    <tr>\n",
       "      <th>1</th>\n",
       "      <td>00000208</td>\n",
       "      <td>BRB - BCO DE BRASILIA S.A.</td>\n",
       "      <td>70.0</td>\n",
       "      <td>BRB - BANCO DE BRASILIA S.A.</td>\n",
       "    </tr>\n",
       "    <tr>\n",
       "      <th>2</th>\n",
       "      <td>00038121</td>\n",
       "      <td>Selic</td>\n",
       "      <td>NaN</td>\n",
       "      <td>Banco Central do Brasil - Selic</td>\n",
       "    </tr>\n",
       "    <tr>\n",
       "      <th>3</th>\n",
       "      <td>00038166</td>\n",
       "      <td>Bacen</td>\n",
       "      <td>NaN</td>\n",
       "      <td>Banco Central do Brasil</td>\n",
       "    </tr>\n",
       "    <tr>\n",
       "      <th>4</th>\n",
       "      <td>00122327</td>\n",
       "      <td>SANTINVEST S.A. - CFI</td>\n",
       "      <td>539.0</td>\n",
       "      <td>SANTINVEST S.A. - CREDITO, FINANCIAMENTO E INV...</td>\n",
       "    </tr>\n",
       "    <tr>\n",
       "      <th>...</th>\n",
       "      <td>...</td>\n",
       "      <td>...</td>\n",
       "      <td>...</td>\n",
       "      <td>...</td>\n",
       "    </tr>\n",
       "    <tr>\n",
       "      <th>354</th>\n",
       "      <td>92875780</td>\n",
       "      <td>WARREN CVMC LTDA</td>\n",
       "      <td>371.0</td>\n",
       "      <td>WARREN CORRETORA DE VALORES MOBILIÁRIOS E CÂMB...</td>\n",
       "    </tr>\n",
       "    <tr>\n",
       "      <th>355</th>\n",
       "      <td>92894922</td>\n",
       "      <td>BANCO ORIGINAL</td>\n",
       "      <td>212.0</td>\n",
       "      <td>Banco Original S.A.</td>\n",
       "    </tr>\n",
       "    <tr>\n",
       "      <th>356</th>\n",
       "      <td>94968518</td>\n",
       "      <td>EFX CC LTDA.</td>\n",
       "      <td>289.0</td>\n",
       "      <td>EFX CORRETORA DE CÂMBIO LTDA.</td>\n",
       "    </tr>\n",
       "    <tr>\n",
       "      <th>357</th>\n",
       "      <td></td>\n",
       "      <td>NaN</td>\n",
       "      <td>NaN</td>\n",
       "      <td>NaN</td>\n",
       "    </tr>\n",
       "    <tr>\n",
       "      <th>358</th>\n",
       "      <td></td>\n",
       "      <td>NaN</td>\n",
       "      <td>NaN</td>\n",
       "      <td>NaN</td>\n",
       "    </tr>\n",
       "  </tbody>\n",
       "</table>\n",
       "<p>359 rows × 4 columns</p>\n",
       "</div>"
      ],
      "text/plain": [
       "         ispb                        name   code  \\\n",
       "0    00000000          BCO DO BRASIL S.A.    1.0   \n",
       "1    00000208  BRB - BCO DE BRASILIA S.A.   70.0   \n",
       "2    00038121                       Selic    NaN   \n",
       "3    00038166                       Bacen    NaN   \n",
       "4    00122327       SANTINVEST S.A. - CFI  539.0   \n",
       "..        ...                         ...    ...   \n",
       "354  92875780            WARREN CVMC LTDA  371.0   \n",
       "355  92894922              BANCO ORIGINAL  212.0   \n",
       "356  94968518                EFX CC LTDA.  289.0   \n",
       "357                                   NaN    NaN   \n",
       "358                                   NaN    NaN   \n",
       "\n",
       "                                              fullName  \n",
       "0                                 Banco do Brasil S.A.  \n",
       "1                         BRB - BANCO DE BRASILIA S.A.  \n",
       "2                      Banco Central do Brasil - Selic  \n",
       "3                              Banco Central do Brasil  \n",
       "4    SANTINVEST S.A. - CREDITO, FINANCIAMENTO E INV...  \n",
       "..                                                 ...  \n",
       "354  WARREN CORRETORA DE VALORES MOBILIÁRIOS E CÂMB...  \n",
       "355                                Banco Original S.A.  \n",
       "356                      EFX CORRETORA DE CÂMBIO LTDA.  \n",
       "357                                                NaN  \n",
       "358                                                NaN  \n",
       "\n",
       "[359 rows x 4 columns]"
      ]
     },
     "execution_count": 129,
     "metadata": {},
     "output_type": "execute_result"
    }
   ],
   "source": [
    "df_banks = pd.DataFrame(data_json1)\n",
    "df_banks"
   ]
  },
  {
   "cell_type": "code",
   "execution_count": 130,
   "metadata": {},
   "outputs": [
    {
     "data": {
      "text/plain": [
       "False    358\n",
       "True       1\n",
       "Name: count, dtype: int64"
      ]
     },
     "execution_count": 130,
     "metadata": {},
     "output_type": "execute_result"
    }
   ],
   "source": [
    "df_banks.duplicated().value_counts() #contando quantas linhas tem duplicadas (se tiver)"
   ]
  },
  {
   "cell_type": "code",
   "execution_count": 131,
   "metadata": {},
   "outputs": [
    {
     "data": {
      "text/html": [
       "<div>\n",
       "<style scoped>\n",
       "    .dataframe tbody tr th:only-of-type {\n",
       "        vertical-align: middle;\n",
       "    }\n",
       "\n",
       "    .dataframe tbody tr th {\n",
       "        vertical-align: top;\n",
       "    }\n",
       "\n",
       "    .dataframe thead th {\n",
       "        text-align: right;\n",
       "    }\n",
       "</style>\n",
       "<table border=\"1\" class=\"dataframe\">\n",
       "  <thead>\n",
       "    <tr style=\"text-align: right;\">\n",
       "      <th></th>\n",
       "      <th>ispb</th>\n",
       "      <th>name</th>\n",
       "      <th>code</th>\n",
       "      <th>fullName</th>\n",
       "    </tr>\n",
       "  </thead>\n",
       "  <tbody>\n",
       "    <tr>\n",
       "      <th>357</th>\n",
       "      <td></td>\n",
       "      <td>NaN</td>\n",
       "      <td>NaN</td>\n",
       "      <td>NaN</td>\n",
       "    </tr>\n",
       "    <tr>\n",
       "      <th>358</th>\n",
       "      <td></td>\n",
       "      <td>NaN</td>\n",
       "      <td>NaN</td>\n",
       "      <td>NaN</td>\n",
       "    </tr>\n",
       "  </tbody>\n",
       "</table>\n",
       "</div>"
      ],
      "text/plain": [
       "    ispb name  code fullName\n",
       "357       NaN   NaN      NaN\n",
       "358       NaN   NaN      NaN"
      ]
     },
     "execution_count": 131,
     "metadata": {},
     "output_type": "execute_result"
    }
   ],
   "source": [
    "df_banks[df_banks.duplicated(keep=False)] "
   ]
  },
  {
   "cell_type": "code",
   "execution_count": 132,
   "metadata": {},
   "outputs": [],
   "source": [
    "# Remove as linhas onde tem as 3 colunas nulas\n",
    "df_banks = df_banks[~(df_banks[\"code\"].isnull() & df_banks[\"name\"].isnull() & df_banks[\"fullName\"].isnull())]"
   ]
  },
  {
   "cell_type": "code",
   "execution_count": 133,
   "metadata": {},
   "outputs": [
    {
     "data": {
      "text/html": [
       "<div>\n",
       "<style scoped>\n",
       "    .dataframe tbody tr th:only-of-type {\n",
       "        vertical-align: middle;\n",
       "    }\n",
       "\n",
       "    .dataframe tbody tr th {\n",
       "        vertical-align: top;\n",
       "    }\n",
       "\n",
       "    .dataframe thead th {\n",
       "        text-align: right;\n",
       "    }\n",
       "</style>\n",
       "<table border=\"1\" class=\"dataframe\">\n",
       "  <thead>\n",
       "    <tr style=\"text-align: right;\">\n",
       "      <th></th>\n",
       "      <th>ispb</th>\n",
       "      <th>name</th>\n",
       "      <th>code</th>\n",
       "      <th>fullName</th>\n",
       "    </tr>\n",
       "  </thead>\n",
       "  <tbody>\n",
       "  </tbody>\n",
       "</table>\n",
       "</div>"
      ],
      "text/plain": [
       "Empty DataFrame\n",
       "Columns: [ispb, name, code, fullName]\n",
       "Index: []"
      ]
     },
     "execution_count": 133,
     "metadata": {},
     "output_type": "execute_result"
    }
   ],
   "source": [
    "df_banks[df_banks.duplicated(keep=False)] "
   ]
  },
  {
   "cell_type": "code",
   "execution_count": 134,
   "metadata": {},
   "outputs": [],
   "source": [
    "# Como apresentamos alguns codigos ('code') nulos nessa coluna com formato object, estou padronizando como 0.0\n",
    "df_banks.loc[:, \"code\"] = df_banks[\"code\"].fillna(0.0)"
   ]
  },
  {
   "cell_type": "code",
   "execution_count": 135,
   "metadata": {},
   "outputs": [
    {
     "name": "stdout",
     "output_type": "stream",
     "text": [
      "Empty DataFrame\n",
      "Columns: [ispb, name, code, fullName]\n",
      "Index: []\n"
     ]
    }
   ],
   "source": [
    "# Da mesma forma para para a coluna ('ispb'), padronizando como com 8 digitos, pois se trata de um identificador de pagamentos.\n",
    "# Verificando se existe esse código\n",
    "print(df_banks[df_banks[\"ispb\"] == '10101010'])"
   ]
  },
  {
   "cell_type": "code",
   "execution_count": 136,
   "metadata": {},
   "outputs": [],
   "source": [
    "# Padronizando com 10101010\n",
    "df_banks.loc[:, \"ispb\"] = df_banks[\"ispb\"].fillna(10101010)\n",
    "\n",
    "# Deixando as strings maiúsculas\n",
    "df_banks.loc[:, \"name\"] = df_banks[\"name\"].str.upper()\n",
    "df_banks.loc[:, \"fullName\"] = df_banks[\"fullName\"].str.upper()\n",
    "\n",
    "# Ordenando o DataFrame em ordem crescente dos códigos\n",
    "df_banks = df_banks.sort_values(\"code\", ascending=True)\n"
   ]
  },
  {
   "cell_type": "code",
   "execution_count": 137,
   "metadata": {},
   "outputs": [
    {
     "name": "stdout",
     "output_type": "stream",
     "text": [
      "<class 'pandas.core.frame.DataFrame'>\n",
      "Index: 357 entries, 184 to 33\n",
      "Data columns (total 4 columns):\n",
      " #   Column    Non-Null Count  Dtype  \n",
      "---  ------    --------------  -----  \n",
      " 0   ispb      357 non-null    object \n",
      " 1   name      357 non-null    object \n",
      " 2   code      357 non-null    float64\n",
      " 3   fullName  357 non-null    object \n",
      "dtypes: float64(1), object(3)\n",
      "memory usage: 13.9+ KB\n"
     ]
    }
   ],
   "source": [
    "# print(df_banks[df_banks[\"name\"].isnull()]) # teste para ver se tem nulo nos nomes\n",
    "# print(df_banks[df_banks[\"fullName\"].isin([''])]) # teste para ver se tem um 'nome' nulo\n",
    "df_banks.info()"
   ]
  },
  {
   "cell_type": "code",
   "execution_count": 138,
   "metadata": {},
   "outputs": [
    {
     "data": {
      "text/html": [
       "<div>\n",
       "<style scoped>\n",
       "    .dataframe tbody tr th:only-of-type {\n",
       "        vertical-align: middle;\n",
       "    }\n",
       "\n",
       "    .dataframe tbody tr th {\n",
       "        vertical-align: top;\n",
       "    }\n",
       "\n",
       "    .dataframe thead th {\n",
       "        text-align: right;\n",
       "    }\n",
       "</style>\n",
       "<table border=\"1\" class=\"dataframe\">\n",
       "  <thead>\n",
       "    <tr style=\"text-align: right;\">\n",
       "      <th></th>\n",
       "      <th>cnpj</th>\n",
       "      <th>type</th>\n",
       "      <th>nome_social</th>\n",
       "      <th>nome_comercial</th>\n",
       "      <th>status</th>\n",
       "      <th>email</th>\n",
       "      <th>telefone</th>\n",
       "      <th>cep</th>\n",
       "      <th>pais</th>\n",
       "      <th>uf</th>\n",
       "      <th>municipio</th>\n",
       "      <th>bairro</th>\n",
       "      <th>complemento</th>\n",
       "      <th>logradouro</th>\n",
       "      <th>data_patrimonio_liquido</th>\n",
       "      <th>valor_patrimonio_liquido</th>\n",
       "      <th>codigo_cvm</th>\n",
       "      <th>data_inicio_situacao</th>\n",
       "      <th>data_registro</th>\n",
       "    </tr>\n",
       "  </thead>\n",
       "  <tbody>\n",
       "    <tr>\n",
       "      <th>0</th>\n",
       "      <td>76621457000185</td>\n",
       "      <td>CORRETORAS</td>\n",
       "      <td>4UM DTVM S.A.</td>\n",
       "      <td>4UM INVESTIMENTOS</td>\n",
       "      <td>CANCELADA</td>\n",
       "      <td>controle@4um.com.br</td>\n",
       "      <td>33519966</td>\n",
       "      <td>80420210</td>\n",
       "      <td>BRASIL</td>\n",
       "      <td>PR</td>\n",
       "      <td>CURITIBA</td>\n",
       "      <td>CENTRO</td>\n",
       "      <td>4º ANDAR</td>\n",
       "      <td>R. VISCONDE DO RIO BRANCO 1488</td>\n",
       "      <td>2005-12-31</td>\n",
       "      <td>4228660.18</td>\n",
       "      <td>2275</td>\n",
       "      <td>2006-10-05</td>\n",
       "      <td>1968-01-15</td>\n",
       "    </tr>\n",
       "    <tr>\n",
       "      <th>1</th>\n",
       "      <td>33817677000176</td>\n",
       "      <td>CORRETORAS</td>\n",
       "      <td>ABC BRASIL DISTRIBUIDORA DE TÍTULOS E VALORES ...</td>\n",
       "      <td>ABC BRASIL DTVM</td>\n",
       "      <td>CANCELADA</td>\n",
       "      <td>complianceregulatorio@abcbrasil.com.br</td>\n",
       "      <td>31702172</td>\n",
       "      <td>1453000</td>\n",
       "      <td></td>\n",
       "      <td>SP</td>\n",
       "      <td>SÃO PAULO</td>\n",
       "      <td>ITAIM BIBI</td>\n",
       "      <td>2º ANDAR</td>\n",
       "      <td>AV. CIDADE JARDIM, 803</td>\n",
       "      <td>2002-12-31</td>\n",
       "      <td>0.00</td>\n",
       "      <td>3514</td>\n",
       "      <td>2002-10-14</td>\n",
       "      <td>2002-10-14</td>\n",
       "    </tr>\n",
       "    <tr>\n",
       "      <th>2</th>\n",
       "      <td>10664027000132</td>\n",
       "      <td>CORRETORAS</td>\n",
       "      <td>ABERTURA CCVM LTDA</td>\n",
       "      <td>ABERTURA CCVM LTDA</td>\n",
       "      <td>CANCELADA</td>\n",
       "      <td></td>\n",
       "      <td></td>\n",
       "      <td>50010240</td>\n",
       "      <td>BRASIL</td>\n",
       "      <td>PE</td>\n",
       "      <td>RECIFE</td>\n",
       "      <td></td>\n",
       "      <td></td>\n",
       "      <td>R DO IMP.D.PEDRO II 239/CJ.102</td>\n",
       "      <td>1989-12-31</td>\n",
       "      <td>5995252.29</td>\n",
       "      <td>329</td>\n",
       "      <td>1990-06-12</td>\n",
       "      <td>1986-07-08</td>\n",
       "    </tr>\n",
       "    <tr>\n",
       "      <th>3</th>\n",
       "      <td>44527444000155</td>\n",
       "      <td>CORRETORAS</td>\n",
       "      <td>ABN AMRO CLEARING CORRETORA DE T-TULOS E VALOR...</td>\n",
       "      <td></td>\n",
       "      <td>EM FUNCIONAMENTO NORMAL</td>\n",
       "      <td>canal.comunicacao@br.abnamro.com</td>\n",
       "      <td>30737417</td>\n",
       "      <td>4551010</td>\n",
       "      <td></td>\n",
       "      <td>SP</td>\n",
       "      <td>SÃO PAULO</td>\n",
       "      <td>VILA OLIMPIA</td>\n",
       "      <td>11¦ ANDAR, CJ. 111</td>\n",
       "      <td>RUA FIDÛNCIO RAMOS, N¦ 302, TORRE B</td>\n",
       "      <td>2023-12-31</td>\n",
       "      <td>11122779.75</td>\n",
       "      <td>3794</td>\n",
       "      <td>2022-06-20</td>\n",
       "      <td>2022-06-20</td>\n",
       "    </tr>\n",
       "  </tbody>\n",
       "</table>\n",
       "</div>"
      ],
      "text/plain": [
       "             cnpj        type  \\\n",
       "0  76621457000185  CORRETORAS   \n",
       "1  33817677000176  CORRETORAS   \n",
       "2  10664027000132  CORRETORAS   \n",
       "3  44527444000155  CORRETORAS   \n",
       "\n",
       "                                         nome_social      nome_comercial  \\\n",
       "0                                      4UM DTVM S.A.   4UM INVESTIMENTOS   \n",
       "1  ABC BRASIL DISTRIBUIDORA DE TÍTULOS E VALORES ...     ABC BRASIL DTVM   \n",
       "2                                 ABERTURA CCVM LTDA  ABERTURA CCVM LTDA   \n",
       "3  ABN AMRO CLEARING CORRETORA DE T-TULOS E VALOR...                       \n",
       "\n",
       "                    status                                   email  telefone  \\\n",
       "0                CANCELADA                     controle@4um.com.br  33519966   \n",
       "1                CANCELADA  complianceregulatorio@abcbrasil.com.br  31702172   \n",
       "2                CANCELADA                                                     \n",
       "3  EM FUNCIONAMENTO NORMAL        canal.comunicacao@br.abnamro.com  30737417   \n",
       "\n",
       "        cep    pais  uf  municipio        bairro         complemento  \\\n",
       "0  80420210  BRASIL  PR   CURITIBA        CENTRO            4º ANDAR   \n",
       "1   1453000          SP  SÃO PAULO    ITAIM BIBI            2º ANDAR   \n",
       "2  50010240  BRASIL  PE     RECIFE                                     \n",
       "3   4551010          SP  SÃO PAULO  VILA OLIMPIA  11¦ ANDAR, CJ. 111   \n",
       "\n",
       "                            logradouro data_patrimonio_liquido  \\\n",
       "0       R. VISCONDE DO RIO BRANCO 1488              2005-12-31   \n",
       "1               AV. CIDADE JARDIM, 803              2002-12-31   \n",
       "2       R DO IMP.D.PEDRO II 239/CJ.102              1989-12-31   \n",
       "3  RUA FIDÛNCIO RAMOS, N¦ 302, TORRE B              2023-12-31   \n",
       "\n",
       "  valor_patrimonio_liquido codigo_cvm data_inicio_situacao data_registro  \n",
       "0               4228660.18       2275           2006-10-05    1968-01-15  \n",
       "1                     0.00       3514           2002-10-14    2002-10-14  \n",
       "2               5995252.29        329           1990-06-12    1986-07-08  \n",
       "3              11122779.75       3794           2022-06-20    2022-06-20  "
      ]
     },
     "execution_count": 138,
     "metadata": {},
     "output_type": "execute_result"
    }
   ],
   "source": [
    "df_corretoras = pd.DataFrame(data_json2)\n",
    "df_corretoras.head(4)"
   ]
  },
  {
   "cell_type": "code",
   "execution_count": 139,
   "metadata": {},
   "outputs": [
    {
     "name": "stdout",
     "output_type": "stream",
     "text": [
      "<class 'pandas.core.frame.DataFrame'>\n",
      "RangeIndex: 374 entries, 0 to 373\n",
      "Data columns (total 19 columns):\n",
      " #   Column                    Non-Null Count  Dtype \n",
      "---  ------                    --------------  ----- \n",
      " 0   cnpj                      374 non-null    object\n",
      " 1   type                      374 non-null    object\n",
      " 2   nome_social               374 non-null    object\n",
      " 3   nome_comercial            374 non-null    object\n",
      " 4   status                    374 non-null    object\n",
      " 5   email                     374 non-null    object\n",
      " 6   telefone                  374 non-null    object\n",
      " 7   cep                       374 non-null    object\n",
      " 8   pais                      374 non-null    object\n",
      " 9   uf                        374 non-null    object\n",
      " 10  municipio                 374 non-null    object\n",
      " 11  bairro                    374 non-null    object\n",
      " 12  complemento               374 non-null    object\n",
      " 13  logradouro                374 non-null    object\n",
      " 14  data_patrimonio_liquido   374 non-null    object\n",
      " 15  valor_patrimonio_liquido  374 non-null    object\n",
      " 16  codigo_cvm                374 non-null    object\n",
      " 17  data_inicio_situacao      374 non-null    object\n",
      " 18  data_registro             374 non-null    object\n",
      "dtypes: object(19)\n",
      "memory usage: 55.6+ KB\n"
     ]
    }
   ],
   "source": [
    "df_corretoras.info()"
   ]
  },
  {
   "cell_type": "code",
   "execution_count": 140,
   "metadata": {},
   "outputs": [
    {
     "data": {
      "text/plain": [
       "1"
      ]
     },
     "execution_count": 140,
     "metadata": {},
     "output_type": "execute_result"
    }
   ],
   "source": [
    "distinct_count = df_corretoras[\"type\"].nunique()\n",
    "distinct_count"
   ]
  },
  {
   "cell_type": "code",
   "execution_count": 141,
   "metadata": {},
   "outputs": [],
   "source": [
    "# Como temos uma coluna com apenas uma informação com nomenclatura 'CORRETORAS', não faz sentido, pois se trata de uma base disso apenas.\n",
    "df_corretoras.drop(columns=[\"type\"], inplace=True) # o inplace está atribuindo o drop no proprio datrafme\n"
   ]
  },
  {
   "cell_type": "code",
   "execution_count": 142,
   "metadata": {},
   "outputs": [],
   "source": [
    "def conversor_datetime(df, colunas):\n",
    "    for coluna in colunas:\n",
    "        df[coluna] = pd.to_datetime(df[coluna], errors='coerce').dt.date #errors='coerce' faz com parametros que não são alterados fiquem nulos.\n",
    "    return df\n",
    "\n",
    "colunas_conversor_datetime = ['data_patrimonio_liquido', 'data_inicio_situacao', 'data_registro']\n",
    "df_corretoras = conversor_datetime(df_corretoras, colunas_conversor_datetime)"
   ]
  },
  {
   "cell_type": "code",
   "execution_count": 143,
   "metadata": {},
   "outputs": [],
   "source": [
    "def conversor_int64(df, colunas):\n",
    "    for coluna in colunas:\n",
    "        df[coluna] = pd.to_numeric(df[coluna], errors='coerce').astype('Int64')  \n",
    "    return df\n",
    "\n",
    "colunas_conversor_int64 = ['cnpj','telefone','cep','codigo_cvm']\n",
    "df_corretoras = conversor_int64(df_corretoras,colunas_conversor_int64)"
   ]
  },
  {
   "cell_type": "code",
   "execution_count": 144,
   "metadata": {},
   "outputs": [
    {
     "name": "stdout",
     "output_type": "stream",
     "text": [
      "cnpj                         Int64\n",
      "nome_social                 object\n",
      "nome_comercial              object\n",
      "status                      object\n",
      "email                       object\n",
      "telefone                     Int64\n",
      "cep                          Int64\n",
      "pais                        object\n",
      "uf                          object\n",
      "municipio                   object\n",
      "bairro                      object\n",
      "complemento                 object\n",
      "logradouro                  object\n",
      "data_patrimonio_liquido     object\n",
      "valor_patrimonio_liquido    object\n",
      "codigo_cvm                   Int64\n",
      "data_inicio_situacao        object\n",
      "data_registro               object\n",
      "dtype: object\n"
     ]
    }
   ],
   "source": [
    "print(df_corretoras.dtypes)"
   ]
  },
  {
   "cell_type": "code",
   "execution_count": 145,
   "metadata": {},
   "outputs": [
    {
     "name": "stdout",
     "output_type": "stream",
     "text": [
      "['CANCELADA' 'EM FUNCIONAMENTO NORMAL' 'LIQUIDAÇÃO EXTRAJUDICIAL'\n",
      " 'INCORPORAÇÃO']\n"
     ]
    }
   ],
   "source": [
    "# Validando os Status da base\n",
    "print(df_corretoras[\"status\"].unique())"
   ]
  },
  {
   "cell_type": "code",
   "execution_count": 146,
   "metadata": {},
   "outputs": [],
   "source": [
    "# Criando um dataframe apenas de canceladas para alguma analise posterior\n",
    "df_corretoras_canceladas = df_corretoras[df_corretoras['status'] == 'CANCELADA']\n",
    "\n",
    "# Removendo os cancelados do dataframe anterior\n",
    "df_corretoras = df_corretoras[df_corretoras['status'] != 'CANCELADA']\n"
   ]
  },
  {
   "cell_type": "code",
   "execution_count": 147,
   "metadata": {},
   "outputs": [
    {
     "data": {
      "text/html": [
       "<div>\n",
       "<style scoped>\n",
       "    .dataframe tbody tr th:only-of-type {\n",
       "        vertical-align: middle;\n",
       "    }\n",
       "\n",
       "    .dataframe tbody tr th {\n",
       "        vertical-align: top;\n",
       "    }\n",
       "\n",
       "    .dataframe thead th {\n",
       "        text-align: right;\n",
       "    }\n",
       "</style>\n",
       "<table border=\"1\" class=\"dataframe\">\n",
       "  <thead>\n",
       "    <tr style=\"text-align: right;\">\n",
       "      <th></th>\n",
       "      <th>ispb</th>\n",
       "      <th>nome</th>\n",
       "      <th>nome_reduzido</th>\n",
       "      <th>modalidade_participacao</th>\n",
       "      <th>tipo_participacao</th>\n",
       "      <th>inicio_operacao</th>\n",
       "    </tr>\n",
       "  </thead>\n",
       "  <tbody>\n",
       "    <tr>\n",
       "      <th>0</th>\n",
       "      <td>00000000</td>\n",
       "      <td>BANCO DO BRASIL S.A.</td>\n",
       "      <td>BCO DO BRASIL S.A.</td>\n",
       "      <td>PDCT</td>\n",
       "      <td>DRCT</td>\n",
       "      <td>2020-11-03T09:30:00.000Z</td>\n",
       "    </tr>\n",
       "    <tr>\n",
       "      <th>1</th>\n",
       "      <td>00000208</td>\n",
       "      <td>BRB - BANCO DE BRASILIA S.A.</td>\n",
       "      <td>BRB - BCO DE BRASILIA S.A.</td>\n",
       "      <td>PDCT</td>\n",
       "      <td>DRCT</td>\n",
       "      <td>2020-11-03T09:30:00.000Z</td>\n",
       "    </tr>\n",
       "    <tr>\n",
       "      <th>2</th>\n",
       "      <td>00068987</td>\n",
       "      <td>COOPERATIVA DE CRÉDITO ARACREDI LTDA. - SICOOB...</td>\n",
       "      <td>CC ARACREDI LTDA.</td>\n",
       "      <td>PDCT</td>\n",
       "      <td>IDRT</td>\n",
       "      <td>2020-11-03T09:30:00.000Z</td>\n",
       "    </tr>\n",
       "    <tr>\n",
       "      <th>3</th>\n",
       "      <td>00075847</td>\n",
       "      <td>COOPERATIVA DE CRÉDITO UNICRED CENTRO-SUL LTDA...</td>\n",
       "      <td>CC UNICRED CENTRO-SUL LTDA - UNICRED CENTRO-SUL</td>\n",
       "      <td>PDCT</td>\n",
       "      <td>IDRT</td>\n",
       "      <td>2020-11-03T09:30:00.000Z</td>\n",
       "    </tr>\n",
       "    <tr>\n",
       "      <th>4</th>\n",
       "      <td>00106180</td>\n",
       "      <td>CENTRAL DAS COOPERATIVAS DE CRÉDITO DOS ESTADO...</td>\n",
       "      <td>CCC DOS EST DE MT, MS E MUN DE CACOAL/RO</td>\n",
       "      <td>PDCT</td>\n",
       "      <td>IDRT</td>\n",
       "      <td>2020-11-03T09:30:00.000Z</td>\n",
       "    </tr>\n",
       "    <tr>\n",
       "      <th>5</th>\n",
       "      <td>00204963</td>\n",
       "      <td>COOPERATIVA DE CREDITO RURAL SEARA - CREDISEARA</td>\n",
       "      <td>CCR SEARA</td>\n",
       "      <td>PDCT</td>\n",
       "      <td>DRCT</td>\n",
       "      <td>2022-02-11T13:00:00.000Z</td>\n",
       "    </tr>\n",
       "    <tr>\n",
       "      <th>6</th>\n",
       "      <td>00259231</td>\n",
       "      <td>SICOOB UNIMAIS METROPOLITANA - COOPERATIVA DE ...</td>\n",
       "      <td>CCLA SICOOB UNIMAIS METROPOLITANA</td>\n",
       "      <td>PDCT</td>\n",
       "      <td>IDRT</td>\n",
       "      <td>2020-11-03T09:30:00.000Z</td>\n",
       "    </tr>\n",
       "    <tr>\n",
       "      <th>7</th>\n",
       "      <td>00309024</td>\n",
       "      <td>CENTRAL DAS COOPERATIVAS DE ECONOMIA E CREDITO...</td>\n",
       "      <td>CCC ESTADO MG - CECREMGE</td>\n",
       "      <td>PDCT</td>\n",
       "      <td>IDRT</td>\n",
       "      <td>2020-11-03T09:30:00.000Z</td>\n",
       "    </tr>\n",
       "    <tr>\n",
       "      <th>8</th>\n",
       "      <td>00315557</td>\n",
       "      <td>COOPERATIVA CENTRAL DE CRÉDITO UNICRED DO BRAS...</td>\n",
       "      <td>UNICRED DO BRASIL</td>\n",
       "      <td>PDCT</td>\n",
       "      <td>DRCT</td>\n",
       "      <td>2020-11-03T09:30:00.000Z</td>\n",
       "    </tr>\n",
       "    <tr>\n",
       "      <th>9</th>\n",
       "      <td>00329598</td>\n",
       "      <td>SEFER INVESTIMENTOS DISTRIBUIDORA DE TÍTULOS E...</td>\n",
       "      <td>SEFER INVESTIMENTOS DTVM LTDA</td>\n",
       "      <td>PDCT</td>\n",
       "      <td>DRCT</td>\n",
       "      <td>2022-11-08T13:00:00.000Z</td>\n",
       "    </tr>\n",
       "  </tbody>\n",
       "</table>\n",
       "</div>"
      ],
      "text/plain": [
       "       ispb                                               nome  \\\n",
       "0  00000000                               BANCO DO BRASIL S.A.   \n",
       "1  00000208                       BRB - BANCO DE BRASILIA S.A.   \n",
       "2  00068987  COOPERATIVA DE CRÉDITO ARACREDI LTDA. - SICOOB...   \n",
       "3  00075847  COOPERATIVA DE CRÉDITO UNICRED CENTRO-SUL LTDA...   \n",
       "4  00106180  CENTRAL DAS COOPERATIVAS DE CRÉDITO DOS ESTADO...   \n",
       "5  00204963    COOPERATIVA DE CREDITO RURAL SEARA - CREDISEARA   \n",
       "6  00259231  SICOOB UNIMAIS METROPOLITANA - COOPERATIVA DE ...   \n",
       "7  00309024  CENTRAL DAS COOPERATIVAS DE ECONOMIA E CREDITO...   \n",
       "8  00315557  COOPERATIVA CENTRAL DE CRÉDITO UNICRED DO BRAS...   \n",
       "9  00329598  SEFER INVESTIMENTOS DISTRIBUIDORA DE TÍTULOS E...   \n",
       "\n",
       "                                     nome_reduzido modalidade_participacao  \\\n",
       "0                               BCO DO BRASIL S.A.                    PDCT   \n",
       "1                       BRB - BCO DE BRASILIA S.A.                    PDCT   \n",
       "2                                CC ARACREDI LTDA.                    PDCT   \n",
       "3  CC UNICRED CENTRO-SUL LTDA - UNICRED CENTRO-SUL                    PDCT   \n",
       "4         CCC DOS EST DE MT, MS E MUN DE CACOAL/RO                    PDCT   \n",
       "5                                        CCR SEARA                    PDCT   \n",
       "6                CCLA SICOOB UNIMAIS METROPOLITANA                    PDCT   \n",
       "7                         CCC ESTADO MG - CECREMGE                    PDCT   \n",
       "8                                UNICRED DO BRASIL                    PDCT   \n",
       "9                    SEFER INVESTIMENTOS DTVM LTDA                    PDCT   \n",
       "\n",
       "  tipo_participacao           inicio_operacao  \n",
       "0              DRCT  2020-11-03T09:30:00.000Z  \n",
       "1              DRCT  2020-11-03T09:30:00.000Z  \n",
       "2              IDRT  2020-11-03T09:30:00.000Z  \n",
       "3              IDRT  2020-11-03T09:30:00.000Z  \n",
       "4              IDRT  2020-11-03T09:30:00.000Z  \n",
       "5              DRCT  2022-02-11T13:00:00.000Z  \n",
       "6              IDRT  2020-11-03T09:30:00.000Z  \n",
       "7              IDRT  2020-11-03T09:30:00.000Z  \n",
       "8              DRCT  2020-11-03T09:30:00.000Z  \n",
       "9              DRCT  2022-11-08T13:00:00.000Z  "
      ]
     },
     "execution_count": 147,
     "metadata": {},
     "output_type": "execute_result"
    }
   ],
   "source": [
    "df_pix = pd.DataFrame(data_json3)\n",
    "df_pix.head(10)"
   ]
  },
  {
   "cell_type": "code",
   "execution_count": 148,
   "metadata": {},
   "outputs": [
    {
     "name": "stdout",
     "output_type": "stream",
     "text": [
      "<class 'pandas.core.frame.DataFrame'>\n",
      "RangeIndex: 862 entries, 0 to 861\n",
      "Data columns (total 6 columns):\n",
      " #   Column                   Non-Null Count  Dtype \n",
      "---  ------                   --------------  ----- \n",
      " 0   ispb                     862 non-null    object\n",
      " 1   nome                     862 non-null    object\n",
      " 2   nome_reduzido            862 non-null    object\n",
      " 3   modalidade_participacao  862 non-null    object\n",
      " 4   tipo_participacao        862 non-null    object\n",
      " 5   inicio_operacao          862 non-null    object\n",
      "dtypes: object(6)\n",
      "memory usage: 40.5+ KB\n"
     ]
    }
   ],
   "source": [
    "df_pix.info()"
   ]
  },
  {
   "cell_type": "code",
   "execution_count": 149,
   "metadata": {},
   "outputs": [],
   "source": [
    "#Truncando os 10 primeiros caracteres da coluna inicio_operacao\n",
    "df_pix['inicio_operacao'] = df_pix['inicio_operacao'].astype(str).str[:10]"
   ]
  },
  {
   "cell_type": "code",
   "execution_count": 150,
   "metadata": {},
   "outputs": [],
   "source": [
    "df_pix = conversor_datetime(df_pix, ['inicio_operacao'])\n",
    "df_pix = conversor_int64(df_pix, ['ispb'])\n"
   ]
  },
  {
   "cell_type": "code",
   "execution_count": 151,
   "metadata": {},
   "outputs": [
    {
     "name": "stdout",
     "output_type": "stream",
     "text": [
      "<class 'pandas.core.frame.DataFrame'>\n",
      "RangeIndex: 862 entries, 0 to 861\n",
      "Data columns (total 6 columns):\n",
      " #   Column                   Non-Null Count  Dtype \n",
      "---  ------                   --------------  ----- \n",
      " 0   ispb                     862 non-null    Int64 \n",
      " 1   nome                     862 non-null    object\n",
      " 2   nome_reduzido            862 non-null    object\n",
      " 3   modalidade_participacao  862 non-null    object\n",
      " 4   tipo_participacao        862 non-null    object\n",
      " 5   inicio_operacao          862 non-null    object\n",
      "dtypes: Int64(1), object(5)\n",
      "memory usage: 41.4+ KB\n"
     ]
    }
   ],
   "source": [
    "df_pix.info()"
   ]
  },
  {
   "cell_type": "code",
   "execution_count": 152,
   "metadata": {},
   "outputs": [
    {
     "data": {
      "text/html": [
       "<div>\n",
       "<style scoped>\n",
       "    .dataframe tbody tr th:only-of-type {\n",
       "        vertical-align: middle;\n",
       "    }\n",
       "\n",
       "    .dataframe tbody tr th {\n",
       "        vertical-align: top;\n",
       "    }\n",
       "\n",
       "    .dataframe thead th {\n",
       "        text-align: right;\n",
       "    }\n",
       "</style>\n",
       "<table border=\"1\" class=\"dataframe\">\n",
       "  <thead>\n",
       "    <tr style=\"text-align: right;\">\n",
       "      <th></th>\n",
       "      <th>ispb</th>\n",
       "      <th>nome</th>\n",
       "      <th>nome_reduzido</th>\n",
       "      <th>modalidade_participacao</th>\n",
       "      <th>tipo_participacao</th>\n",
       "      <th>inicio_operacao</th>\n",
       "    </tr>\n",
       "  </thead>\n",
       "  <tbody>\n",
       "    <tr>\n",
       "      <th>0</th>\n",
       "      <td>0</td>\n",
       "      <td>BANCO DO BRASIL S.A.</td>\n",
       "      <td>BCO DO BRASIL S.A.</td>\n",
       "      <td>PDCT</td>\n",
       "      <td>DRCT</td>\n",
       "      <td>2020-11-03</td>\n",
       "    </tr>\n",
       "    <tr>\n",
       "      <th>1</th>\n",
       "      <td>208</td>\n",
       "      <td>BRB - BANCO DE BRASILIA S.A.</td>\n",
       "      <td>BRB - BCO DE BRASILIA S.A.</td>\n",
       "      <td>PDCT</td>\n",
       "      <td>DRCT</td>\n",
       "      <td>2020-11-03</td>\n",
       "    </tr>\n",
       "    <tr>\n",
       "      <th>2</th>\n",
       "      <td>68987</td>\n",
       "      <td>COOPERATIVA DE CRÉDITO ARACREDI LTDA. - SICOOB...</td>\n",
       "      <td>CC ARACREDI LTDA.</td>\n",
       "      <td>PDCT</td>\n",
       "      <td>IDRT</td>\n",
       "      <td>2020-11-03</td>\n",
       "    </tr>\n",
       "    <tr>\n",
       "      <th>3</th>\n",
       "      <td>75847</td>\n",
       "      <td>COOPERATIVA DE CRÉDITO UNICRED CENTRO-SUL LTDA...</td>\n",
       "      <td>CC UNICRED CENTRO-SUL LTDA - UNICRED CENTRO-SUL</td>\n",
       "      <td>PDCT</td>\n",
       "      <td>IDRT</td>\n",
       "      <td>2020-11-03</td>\n",
       "    </tr>\n",
       "    <tr>\n",
       "      <th>4</th>\n",
       "      <td>106180</td>\n",
       "      <td>CENTRAL DAS COOPERATIVAS DE CRÉDITO DOS ESTADO...</td>\n",
       "      <td>CCC DOS EST DE MT, MS E MUN DE CACOAL/RO</td>\n",
       "      <td>PDCT</td>\n",
       "      <td>IDRT</td>\n",
       "      <td>2020-11-03</td>\n",
       "    </tr>\n",
       "  </tbody>\n",
       "</table>\n",
       "</div>"
      ],
      "text/plain": [
       "     ispb                                               nome  \\\n",
       "0       0                               BANCO DO BRASIL S.A.   \n",
       "1     208                       BRB - BANCO DE BRASILIA S.A.   \n",
       "2   68987  COOPERATIVA DE CRÉDITO ARACREDI LTDA. - SICOOB...   \n",
       "3   75847  COOPERATIVA DE CRÉDITO UNICRED CENTRO-SUL LTDA...   \n",
       "4  106180  CENTRAL DAS COOPERATIVAS DE CRÉDITO DOS ESTADO...   \n",
       "\n",
       "                                     nome_reduzido modalidade_participacao  \\\n",
       "0                               BCO DO BRASIL S.A.                    PDCT   \n",
       "1                       BRB - BCO DE BRASILIA S.A.                    PDCT   \n",
       "2                                CC ARACREDI LTDA.                    PDCT   \n",
       "3  CC UNICRED CENTRO-SUL LTDA - UNICRED CENTRO-SUL                    PDCT   \n",
       "4         CCC DOS EST DE MT, MS E MUN DE CACOAL/RO                    PDCT   \n",
       "\n",
       "  tipo_participacao inicio_operacao  \n",
       "0              DRCT      2020-11-03  \n",
       "1              DRCT      2020-11-03  \n",
       "2              IDRT      2020-11-03  \n",
       "3              IDRT      2020-11-03  \n",
       "4              IDRT      2020-11-03  "
      ]
     },
     "execution_count": 152,
     "metadata": {},
     "output_type": "execute_result"
    }
   ],
   "source": [
    "df_pix.head()"
   ]
  },
  {
   "cell_type": "code",
   "execution_count": 153,
   "metadata": {},
   "outputs": [],
   "source": [
    "import sqlite3"
   ]
  },
  {
   "cell_type": "code",
   "execution_count": 154,
   "metadata": {},
   "outputs": [],
   "source": [
    "# Conexão ao banco de dados SQLite\n",
    "conn = sqlite3.connect('tabela_projeto_final_1.db')\n",
    "\n",
    "# Inserir os DataFrames\n",
    "df_pix.to_sql('pix', conn, if_exists='replace', index=False)\n",
    "df_banks.to_sql('banks', conn, if_exists='replace', index=False)\n",
    "df_corretoras.to_sql('corretoras', conn, if_exists='replace', index=False)\n",
    "df_corretoras_canceladas.to_sql('corretoras_canceladas', conn, if_exists='replace', index=False)\n",
    "\n",
    "# Fechar a conexão\n",
    "conn.close()"
   ]
  },
  {
   "cell_type": "code",
   "execution_count": 155,
   "metadata": {},
   "outputs": [
    {
     "data": {
      "text/html": [
       "<div>\n",
       "<style scoped>\n",
       "    .dataframe tbody tr th:only-of-type {\n",
       "        vertical-align: middle;\n",
       "    }\n",
       "\n",
       "    .dataframe tbody tr th {\n",
       "        vertical-align: top;\n",
       "    }\n",
       "\n",
       "    .dataframe thead th {\n",
       "        text-align: right;\n",
       "    }\n",
       "</style>\n",
       "<table border=\"1\" class=\"dataframe\">\n",
       "  <thead>\n",
       "    <tr style=\"text-align: right;\">\n",
       "      <th></th>\n",
       "      <th>ispb</th>\n",
       "      <th>nome</th>\n",
       "      <th>nome_reduzido</th>\n",
       "      <th>modalidade_participacao</th>\n",
       "      <th>tipo_participacao</th>\n",
       "      <th>inicio_operacao</th>\n",
       "    </tr>\n",
       "  </thead>\n",
       "  <tbody>\n",
       "    <tr>\n",
       "      <th>0</th>\n",
       "      <td>0</td>\n",
       "      <td>BANCO DO BRASIL S.A.</td>\n",
       "      <td>BCO DO BRASIL S.A.</td>\n",
       "      <td>PDCT</td>\n",
       "      <td>DRCT</td>\n",
       "      <td>2020-11-03</td>\n",
       "    </tr>\n",
       "    <tr>\n",
       "      <th>1</th>\n",
       "      <td>208</td>\n",
       "      <td>BRB - BANCO DE BRASILIA S.A.</td>\n",
       "      <td>BRB - BCO DE BRASILIA S.A.</td>\n",
       "      <td>PDCT</td>\n",
       "      <td>DRCT</td>\n",
       "      <td>2020-11-03</td>\n",
       "    </tr>\n",
       "    <tr>\n",
       "      <th>2</th>\n",
       "      <td>68987</td>\n",
       "      <td>COOPERATIVA DE CRÉDITO ARACREDI LTDA. - SICOOB...</td>\n",
       "      <td>CC ARACREDI LTDA.</td>\n",
       "      <td>PDCT</td>\n",
       "      <td>IDRT</td>\n",
       "      <td>2020-11-03</td>\n",
       "    </tr>\n",
       "  </tbody>\n",
       "</table>\n",
       "</div>"
      ],
      "text/plain": [
       "    ispb                                               nome  \\\n",
       "0      0                               BANCO DO BRASIL S.A.   \n",
       "1    208                       BRB - BANCO DE BRASILIA S.A.   \n",
       "2  68987  COOPERATIVA DE CRÉDITO ARACREDI LTDA. - SICOOB...   \n",
       "\n",
       "                nome_reduzido modalidade_participacao tipo_participacao  \\\n",
       "0          BCO DO BRASIL S.A.                    PDCT              DRCT   \n",
       "1  BRB - BCO DE BRASILIA S.A.                    PDCT              DRCT   \n",
       "2           CC ARACREDI LTDA.                    PDCT              IDRT   \n",
       "\n",
       "  inicio_operacao  \n",
       "0      2020-11-03  \n",
       "1      2020-11-03  \n",
       "2      2020-11-03  "
      ]
     },
     "execution_count": 155,
     "metadata": {},
     "output_type": "execute_result"
    }
   ],
   "source": [
    "# testando conexão\n",
    "conn = sqlite3.connect('tabela_projeto_final_1.db')\n",
    "query = ''' SELECT * FROM pix'''\n",
    "\n",
    "df_teste = pd.read_sql(query,conn)\n",
    "conn.close()\n",
    "df_teste.head(3)"
   ]
  }
 ],
 "metadata": {
  "kernelspec": {
   "display_name": "Python 3",
   "language": "python",
   "name": "python3"
  },
  "language_info": {
   "codemirror_mode": {
    "name": "ipython",
    "version": 3
   },
   "file_extension": ".py",
   "mimetype": "text/x-python",
   "name": "python",
   "nbconvert_exporter": "python",
   "pygments_lexer": "ipython3",
   "version": "3.13.0"
  }
 },
 "nbformat": 4,
 "nbformat_minor": 2
}
